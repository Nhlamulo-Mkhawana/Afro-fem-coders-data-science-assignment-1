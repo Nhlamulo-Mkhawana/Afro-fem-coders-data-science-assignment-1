{
 "cells": [
  {
   "cell_type": "code",
   "execution_count": 1,
   "metadata": {},
   "outputs": [],
   "source": [
    "#Import pandas\n",
    "import pandas as pd"
   ]
  },
  {
   "cell_type": "code",
   "execution_count": 2,
   "metadata": {},
   "outputs": [
    {
     "data": {
      "text/html": [
       "<div>\n",
       "<style scoped>\n",
       "    .dataframe tbody tr th:only-of-type {\n",
       "        vertical-align: middle;\n",
       "    }\n",
       "\n",
       "    .dataframe tbody tr th {\n",
       "        vertical-align: top;\n",
       "    }\n",
       "\n",
       "    .dataframe thead th {\n",
       "        text-align: right;\n",
       "    }\n",
       "</style>\n",
       "<table border=\"1\" class=\"dataframe\">\n",
       "  <thead>\n",
       "    <tr style=\"text-align: right;\">\n",
       "      <th></th>\n",
       "      <th>Title</th>\n",
       "      <th>Date</th>\n",
       "    </tr>\n",
       "  </thead>\n",
       "  <tbody>\n",
       "    <tr>\n",
       "      <th>0</th>\n",
       "      <td>Russian Doll: Season 2: Station to Station</td>\n",
       "      <td>5/4/22</td>\n",
       "    </tr>\n",
       "    <tr>\n",
       "      <th>1</th>\n",
       "      <td>Russian Doll: Season 2: Brain Drain</td>\n",
       "      <td>5/3/22</td>\n",
       "    </tr>\n",
       "    <tr>\n",
       "      <th>2</th>\n",
       "      <td>Russian Doll: Season 2: Coney Island Baby</td>\n",
       "      <td>4/26/22</td>\n",
       "    </tr>\n",
       "    <tr>\n",
       "      <th>3</th>\n",
       "      <td>Russian Doll: Season 2: Nowhen</td>\n",
       "      <td>4/26/22</td>\n",
       "    </tr>\n",
       "    <tr>\n",
       "      <th>4</th>\n",
       "      <td>Eternally Confused and Eager for Love: Season ...</td>\n",
       "      <td>4/10/22</td>\n",
       "    </tr>\n",
       "    <tr>\n",
       "      <th>...</th>\n",
       "      <td>...</td>\n",
       "      <td>...</td>\n",
       "    </tr>\n",
       "    <tr>\n",
       "      <th>1967</th>\n",
       "      <td>The OA: Part I: Chapter 4: Away</td>\n",
       "      <td>12/22/16</td>\n",
       "    </tr>\n",
       "    <tr>\n",
       "      <th>1968</th>\n",
       "      <td>The OA: Part I: Chapter 3: Champion</td>\n",
       "      <td>12/22/16</td>\n",
       "    </tr>\n",
       "    <tr>\n",
       "      <th>1969</th>\n",
       "      <td>The OA: Part I: Chapter 2: New Colossus</td>\n",
       "      <td>12/22/16</td>\n",
       "    </tr>\n",
       "    <tr>\n",
       "      <th>1970</th>\n",
       "      <td>The OA: Part I: Chapter 1: Homecoming</td>\n",
       "      <td>12/22/16</td>\n",
       "    </tr>\n",
       "    <tr>\n",
       "      <th>1971</th>\n",
       "      <td>The Imitation Game</td>\n",
       "      <td>12/21/16</td>\n",
       "    </tr>\n",
       "  </tbody>\n",
       "</table>\n",
       "<p>1972 rows × 2 columns</p>\n",
       "</div>"
      ],
      "text/plain": [
       "                                                  Title      Date\n",
       "0            Russian Doll: Season 2: Station to Station    5/4/22\n",
       "1                   Russian Doll: Season 2: Brain Drain    5/3/22\n",
       "2             Russian Doll: Season 2: Coney Island Baby   4/26/22\n",
       "3                        Russian Doll: Season 2: Nowhen   4/26/22\n",
       "4     Eternally Confused and Eager for Love: Season ...   4/10/22\n",
       "...                                                 ...       ...\n",
       "1967                    The OA: Part I: Chapter 4: Away  12/22/16\n",
       "1968                The OA: Part I: Chapter 3: Champion  12/22/16\n",
       "1969            The OA: Part I: Chapter 2: New Colossus  12/22/16\n",
       "1970              The OA: Part I: Chapter 1: Homecoming  12/22/16\n",
       "1971                                 The Imitation Game  12/21/16\n",
       "\n",
       "[1972 rows x 2 columns]"
      ]
     },
     "execution_count": 2,
     "metadata": {},
     "output_type": "execute_result"
    }
   ],
   "source": [
    "#Reading the csv file\n",
    "Netflix_Viewing_History = pd.read_csv('NetflixViewingHistory.csv')\n",
    "Netflix_Viewing_History"
   ]
  },
  {
   "cell_type": "code",
   "execution_count": 3,
   "metadata": {},
   "outputs": [
    {
     "data": {
      "text/plain": [
       "1972"
      ]
     },
     "execution_count": 3,
     "metadata": {},
     "output_type": "execute_result"
    }
   ],
   "source": [
    "# How many entries AKA rows are in the data?\n",
    "len(Netflix_Viewing_History)"
   ]
  },
  {
   "cell_type": "code",
   "execution_count": 4,
   "metadata": {},
   "outputs": [
    {
     "data": {
      "text/plain": [
       "2"
      ]
     },
     "execution_count": 4,
     "metadata": {},
     "output_type": "execute_result"
    }
   ],
   "source": [
    "#How many columns are in the data?\n",
    "len(Netflix_Viewing_History.columns)"
   ]
  },
  {
   "cell_type": "code",
   "execution_count": 5,
   "metadata": {},
   "outputs": [
    {
     "data": {
      "text/plain": [
       "'Title'"
      ]
     },
     "execution_count": 5,
     "metadata": {},
     "output_type": "execute_result"
    }
   ],
   "source": [
    "#What is the name of the first column in the data?\n",
    "Netflix_Viewing_History.columns[0]"
   ]
  },
  {
   "cell_type": "code",
   "execution_count": 6,
   "metadata": {},
   "outputs": [
    {
     "data": {
      "text/plain": [
       "'Date'"
      ]
     },
     "execution_count": 6,
     "metadata": {},
     "output_type": "execute_result"
    }
   ],
   "source": [
    "#What is the name of the second column in the data?\n",
    "Netflix_Viewing_History.columns[1]"
   ]
  },
  {
   "cell_type": "code",
   "execution_count": 23,
   "metadata": {},
   "outputs": [
    {
     "data": {
      "text/plain": [
       "10"
      ]
     },
     "execution_count": 23,
     "metadata": {},
     "output_type": "execute_result"
    }
   ],
   "source": [
    "#How many times was an episode of the show Designated Survivor watched according to the data?\n",
    "Netflix_Viewing_History['Title'].apply(lambda title: 'Designated Survivor' in title).sum()"
   ]
  },
  {
   "cell_type": "code",
   "execution_count": 24,
   "metadata": {},
   "outputs": [
    {
     "data": {
      "text/html": [
       "<div>\n",
       "<style scoped>\n",
       "    .dataframe tbody tr th:only-of-type {\n",
       "        vertical-align: middle;\n",
       "    }\n",
       "\n",
       "    .dataframe tbody tr th {\n",
       "        vertical-align: top;\n",
       "    }\n",
       "\n",
       "    .dataframe thead th {\n",
       "        text-align: right;\n",
       "    }\n",
       "</style>\n",
       "<table border=\"1\" class=\"dataframe\">\n",
       "  <thead>\n",
       "    <tr style=\"text-align: right;\">\n",
       "      <th></th>\n",
       "      <th>Title</th>\n",
       "      <th>Date</th>\n",
       "    </tr>\n",
       "  </thead>\n",
       "  <tbody>\n",
       "    <tr>\n",
       "      <th>8</th>\n",
       "      <td>Bridgerton: Season 2: The Viscount Who Loved Me</td>\n",
       "      <td>4/4/22</td>\n",
       "    </tr>\n",
       "    <tr>\n",
       "      <th>9</th>\n",
       "      <td>Bridgerton: Season 2: Harmony</td>\n",
       "      <td>4/3/22</td>\n",
       "    </tr>\n",
       "    <tr>\n",
       "      <th>10</th>\n",
       "      <td>Bridgerton: Season 2: The Choice</td>\n",
       "      <td>4/2/22</td>\n",
       "    </tr>\n",
       "    <tr>\n",
       "      <th>11</th>\n",
       "      <td>Bridgerton: Season 2: An Unthinkable Fate</td>\n",
       "      <td>3/31/22</td>\n",
       "    </tr>\n",
       "    <tr>\n",
       "      <th>12</th>\n",
       "      <td>Bridgerton: Season 2: Victory</td>\n",
       "      <td>3/31/22</td>\n",
       "    </tr>\n",
       "    <tr>\n",
       "      <th>13</th>\n",
       "      <td>Bridgerton: Season 2: A Bee in Your Bonnet</td>\n",
       "      <td>3/30/22</td>\n",
       "    </tr>\n",
       "    <tr>\n",
       "      <th>14</th>\n",
       "      <td>Bridgerton: Season 2: Off to the Races</td>\n",
       "      <td>3/30/22</td>\n",
       "    </tr>\n",
       "    <tr>\n",
       "      <th>15</th>\n",
       "      <td>Bridgerton: Season 2: Capital R Rake</td>\n",
       "      <td>3/26/22</td>\n",
       "    </tr>\n",
       "    <tr>\n",
       "      <th>409</th>\n",
       "      <td>Bridgerton: Season 1: After the Rain</td>\n",
       "      <td>1/9/21</td>\n",
       "    </tr>\n",
       "    <tr>\n",
       "      <th>410</th>\n",
       "      <td>Bridgerton: Season 1: Oceans Apart</td>\n",
       "      <td>1/9/21</td>\n",
       "    </tr>\n",
       "    <tr>\n",
       "      <th>411</th>\n",
       "      <td>Bridgerton: Season 1: Swish</td>\n",
       "      <td>1/9/21</td>\n",
       "    </tr>\n",
       "    <tr>\n",
       "      <th>412</th>\n",
       "      <td>Bridgerton: Season 1: The Duke and I</td>\n",
       "      <td>1/9/21</td>\n",
       "    </tr>\n",
       "    <tr>\n",
       "      <th>413</th>\n",
       "      <td>Bridgerton: Season 1: An Affair of Honor</td>\n",
       "      <td>1/8/21</td>\n",
       "    </tr>\n",
       "    <tr>\n",
       "      <th>414</th>\n",
       "      <td>Bridgerton: Season 1: Art of the Swoon</td>\n",
       "      <td>1/8/21</td>\n",
       "    </tr>\n",
       "    <tr>\n",
       "      <th>415</th>\n",
       "      <td>Bridgerton: Season 1: Shock and Delight</td>\n",
       "      <td>1/8/21</td>\n",
       "    </tr>\n",
       "    <tr>\n",
       "      <th>416</th>\n",
       "      <td>Bridgerton: Season 1: Diamond of the First Water</td>\n",
       "      <td>1/8/21</td>\n",
       "    </tr>\n",
       "  </tbody>\n",
       "</table>\n",
       "</div>"
      ],
      "text/plain": [
       "                                                Title     Date\n",
       "8     Bridgerton: Season 2: The Viscount Who Loved Me   4/4/22\n",
       "9                       Bridgerton: Season 2: Harmony   4/3/22\n",
       "10                   Bridgerton: Season 2: The Choice   4/2/22\n",
       "11          Bridgerton: Season 2: An Unthinkable Fate  3/31/22\n",
       "12                      Bridgerton: Season 2: Victory  3/31/22\n",
       "13         Bridgerton: Season 2: A Bee in Your Bonnet  3/30/22\n",
       "14             Bridgerton: Season 2: Off to the Races  3/30/22\n",
       "15               Bridgerton: Season 2: Capital R Rake  3/26/22\n",
       "409              Bridgerton: Season 1: After the Rain   1/9/21\n",
       "410                Bridgerton: Season 1: Oceans Apart   1/9/21\n",
       "411                       Bridgerton: Season 1: Swish   1/9/21\n",
       "412              Bridgerton: Season 1: The Duke and I   1/9/21\n",
       "413          Bridgerton: Season 1: An Affair of Honor   1/8/21\n",
       "414            Bridgerton: Season 1: Art of the Swoon   1/8/21\n",
       "415           Bridgerton: Season 1: Shock and Delight   1/8/21\n",
       "416  Bridgerton: Season 1: Diamond of the First Water   1/8/21"
      ]
     },
     "execution_count": 24,
     "metadata": {},
     "output_type": "execute_result"
    }
   ],
   "source": [
    "#When was the starting date of watching the show Bridgerton according to the data?\n",
    "#Firstly, find the data containing the title Bridgerton\n",
    "Netflix_Viewing_History.loc[('Bridgerton' in title for title in Netflix_Viewing_History['Title']),:]"
   ]
  },
  {
   "cell_type": "code",
   "execution_count": 25,
   "metadata": {},
   "outputs": [
    {
     "data": {
      "text/html": [
       "<div>\n",
       "<style scoped>\n",
       "    .dataframe tbody tr th:only-of-type {\n",
       "        vertical-align: middle;\n",
       "    }\n",
       "\n",
       "    .dataframe tbody tr th {\n",
       "        vertical-align: top;\n",
       "    }\n",
       "\n",
       "    .dataframe thead th {\n",
       "        text-align: right;\n",
       "    }\n",
       "</style>\n",
       "<table border=\"1\" class=\"dataframe\">\n",
       "  <thead>\n",
       "    <tr style=\"text-align: right;\">\n",
       "      <th></th>\n",
       "      <th>Title</th>\n",
       "      <th>Date</th>\n",
       "    </tr>\n",
       "  </thead>\n",
       "  <tbody>\n",
       "    <tr>\n",
       "      <th>413</th>\n",
       "      <td>Bridgerton: Season 1: An Affair of Honor</td>\n",
       "      <td>1/8/21</td>\n",
       "    </tr>\n",
       "    <tr>\n",
       "      <th>414</th>\n",
       "      <td>Bridgerton: Season 1: Art of the Swoon</td>\n",
       "      <td>1/8/21</td>\n",
       "    </tr>\n",
       "    <tr>\n",
       "      <th>415</th>\n",
       "      <td>Bridgerton: Season 1: Shock and Delight</td>\n",
       "      <td>1/8/21</td>\n",
       "    </tr>\n",
       "    <tr>\n",
       "      <th>416</th>\n",
       "      <td>Bridgerton: Season 1: Diamond of the First Water</td>\n",
       "      <td>1/8/21</td>\n",
       "    </tr>\n",
       "    <tr>\n",
       "      <th>409</th>\n",
       "      <td>Bridgerton: Season 1: After the Rain</td>\n",
       "      <td>1/9/21</td>\n",
       "    </tr>\n",
       "    <tr>\n",
       "      <th>410</th>\n",
       "      <td>Bridgerton: Season 1: Oceans Apart</td>\n",
       "      <td>1/9/21</td>\n",
       "    </tr>\n",
       "    <tr>\n",
       "      <th>411</th>\n",
       "      <td>Bridgerton: Season 1: Swish</td>\n",
       "      <td>1/9/21</td>\n",
       "    </tr>\n",
       "    <tr>\n",
       "      <th>412</th>\n",
       "      <td>Bridgerton: Season 1: The Duke and I</td>\n",
       "      <td>1/9/21</td>\n",
       "    </tr>\n",
       "    <tr>\n",
       "      <th>15</th>\n",
       "      <td>Bridgerton: Season 2: Capital R Rake</td>\n",
       "      <td>3/26/22</td>\n",
       "    </tr>\n",
       "    <tr>\n",
       "      <th>13</th>\n",
       "      <td>Bridgerton: Season 2: A Bee in Your Bonnet</td>\n",
       "      <td>3/30/22</td>\n",
       "    </tr>\n",
       "    <tr>\n",
       "      <th>14</th>\n",
       "      <td>Bridgerton: Season 2: Off to the Races</td>\n",
       "      <td>3/30/22</td>\n",
       "    </tr>\n",
       "    <tr>\n",
       "      <th>11</th>\n",
       "      <td>Bridgerton: Season 2: An Unthinkable Fate</td>\n",
       "      <td>3/31/22</td>\n",
       "    </tr>\n",
       "    <tr>\n",
       "      <th>12</th>\n",
       "      <td>Bridgerton: Season 2: Victory</td>\n",
       "      <td>3/31/22</td>\n",
       "    </tr>\n",
       "    <tr>\n",
       "      <th>10</th>\n",
       "      <td>Bridgerton: Season 2: The Choice</td>\n",
       "      <td>4/2/22</td>\n",
       "    </tr>\n",
       "    <tr>\n",
       "      <th>9</th>\n",
       "      <td>Bridgerton: Season 2: Harmony</td>\n",
       "      <td>4/3/22</td>\n",
       "    </tr>\n",
       "    <tr>\n",
       "      <th>8</th>\n",
       "      <td>Bridgerton: Season 2: The Viscount Who Loved Me</td>\n",
       "      <td>4/4/22</td>\n",
       "    </tr>\n",
       "  </tbody>\n",
       "</table>\n",
       "</div>"
      ],
      "text/plain": [
       "                                                Title     Date\n",
       "413          Bridgerton: Season 1: An Affair of Honor   1/8/21\n",
       "414            Bridgerton: Season 1: Art of the Swoon   1/8/21\n",
       "415           Bridgerton: Season 1: Shock and Delight   1/8/21\n",
       "416  Bridgerton: Season 1: Diamond of the First Water   1/8/21\n",
       "409              Bridgerton: Season 1: After the Rain   1/9/21\n",
       "410                Bridgerton: Season 1: Oceans Apart   1/9/21\n",
       "411                       Bridgerton: Season 1: Swish   1/9/21\n",
       "412              Bridgerton: Season 1: The Duke and I   1/9/21\n",
       "15               Bridgerton: Season 2: Capital R Rake  3/26/22\n",
       "13         Bridgerton: Season 2: A Bee in Your Bonnet  3/30/22\n",
       "14             Bridgerton: Season 2: Off to the Races  3/30/22\n",
       "11          Bridgerton: Season 2: An Unthinkable Fate  3/31/22\n",
       "12                      Bridgerton: Season 2: Victory  3/31/22\n",
       "10                   Bridgerton: Season 2: The Choice   4/2/22\n",
       "9                       Bridgerton: Season 2: Harmony   4/3/22\n",
       "8     Bridgerton: Season 2: The Viscount Who Loved Me   4/4/22"
      ]
     },
     "execution_count": 25,
     "metadata": {},
     "output_type": "execute_result"
    }
   ],
   "source": [
    "#Secondly, sort the data by date\n",
    "Netflix_Viewing_History.loc[('Bridgerton' in title for title in Netflix_Viewing_History['Title']),:].sort_values('Date',ascending=True)"
   ]
  },
  {
   "cell_type": "code",
   "execution_count": 27,
   "metadata": {},
   "outputs": [
    {
     "data": {
      "text/plain": [
       "413     1/8/21\n",
       "414     1/8/21\n",
       "415     1/8/21\n",
       "416     1/8/21\n",
       "409     1/9/21\n",
       "410     1/9/21\n",
       "411     1/9/21\n",
       "412     1/9/21\n",
       "15     3/26/22\n",
       "13     3/30/22\n",
       "14     3/30/22\n",
       "11     3/31/22\n",
       "12     3/31/22\n",
       "10      4/2/22\n",
       "9       4/3/22\n",
       "8       4/4/22\n",
       "Name: Date, dtype: object"
      ]
     },
     "execution_count": 27,
     "metadata": {},
     "output_type": "execute_result"
    }
   ],
   "source": [
    "#Thirdly, getting just the dates of watching Bridgerton.\n",
    "Netflix_Viewing_History.loc[('Bridgerton' in title for title in Netflix_Viewing_History['Title']),:].sort_values('Date',ascending=True)['Date']"
   ]
  },
  {
   "cell_type": "code",
   "execution_count": 28,
   "metadata": {},
   "outputs": [
    {
     "data": {
      "text/plain": [
       "'1/8/21'"
      ]
     },
     "execution_count": 28,
     "metadata": {},
     "output_type": "execute_result"
    }
   ],
   "source": [
    "#Lastly, get the starting date of watching the Bridgerton show using the iloc function.\n",
    "Netflix_Viewing_History.loc[('Bridgerton' in title for title in Netflix_Viewing_History['Title']),:].sort_values('Date',ascending=True)['Date'].iloc[0]\n"
   ]
  },
  {
   "cell_type": "code",
   "execution_count": 29,
   "metadata": {},
   "outputs": [
    {
     "data": {
      "text/plain": [
       "413            Bridgerton: Season 1: An Affair of Honor\n",
       "414              Bridgerton: Season 1: Art of the Swoon\n",
       "415             Bridgerton: Season 1: Shock and Delight\n",
       "416    Bridgerton: Season 1: Diamond of the First Water\n",
       "409                Bridgerton: Season 1: After the Rain\n",
       "410                  Bridgerton: Season 1: Oceans Apart\n",
       "411                         Bridgerton: Season 1: Swish\n",
       "412                Bridgerton: Season 1: The Duke and I\n",
       "15                 Bridgerton: Season 2: Capital R Rake\n",
       "13           Bridgerton: Season 2: A Bee in Your Bonnet\n",
       "14               Bridgerton: Season 2: Off to the Races\n",
       "11            Bridgerton: Season 2: An Unthinkable Fate\n",
       "12                        Bridgerton: Season 2: Victory\n",
       "10                     Bridgerton: Season 2: The Choice\n",
       "9                         Bridgerton: Season 2: Harmony\n",
       "8       Bridgerton: Season 2: The Viscount Who Loved Me\n",
       "Name: Title, dtype: object"
      ]
     },
     "execution_count": 29,
     "metadata": {},
     "output_type": "execute_result"
    }
   ],
   "source": [
    "#What is the title of the first episode of the show Bridgerton watched according to the data?\n",
    "#Firstly, only show the title of bridgteron show\n",
    "Netflix_Viewing_History.loc[('Bridgerton' in title for title in Netflix_Viewing_History['Title']),:].sort_values('Date',ascending=True)['Title']"
   ]
  },
  {
   "cell_type": "code",
   "execution_count": 30,
   "metadata": {},
   "outputs": [
    {
     "data": {
      "text/plain": [
       "'Bridgerton: Season 1: An Affair of Honor'"
      ]
     },
     "execution_count": 30,
     "metadata": {},
     "output_type": "execute_result"
    }
   ],
   "source": [
    "#Lastly, find the specific title of the bridgerton episode first watched.\n",
    "Netflix_Viewing_History.loc[('Bridgerton' in title for title in Netflix_Viewing_History['Title']),:].sort_values('Date',ascending=True)['Title'].iloc[0] "
   ]
  },
  {
   "cell_type": "code",
   "execution_count": 31,
   "metadata": {},
   "outputs": [
    {
     "data": {
      "text/plain": [
       "8       4/4/22\n",
       "9       4/3/22\n",
       "10      4/2/22\n",
       "11     3/31/22\n",
       "12     3/31/22\n",
       "13     3/30/22\n",
       "14     3/30/22\n",
       "15     3/26/22\n",
       "409     1/9/21\n",
       "410     1/9/21\n",
       "411     1/9/21\n",
       "412     1/9/21\n",
       "413     1/8/21\n",
       "414     1/8/21\n",
       "415     1/8/21\n",
       "416     1/8/21\n",
       "Name: Date, dtype: object"
      ]
     },
     "execution_count": 31,
     "metadata": {},
     "output_type": "execute_result"
    }
   ],
   "source": [
    "#When was the last date of watching the show Bridgerton according to the data?\n",
    "#Firstly, sort the data in a descending order\n",
    "Netflix_Viewing_History.loc[('Bridgerton' in title for title in Netflix_Viewing_History['Title']),:].sort_values('Date',ascending=False)['Date']"
   ]
  },
  {
   "cell_type": "code",
   "execution_count": 32,
   "metadata": {},
   "outputs": [
    {
     "data": {
      "text/plain": [
       "'4/4/22'"
      ]
     },
     "execution_count": 32,
     "metadata": {},
     "output_type": "execute_result"
    }
   ],
   "source": [
    "#Secondly, use the iloc function to find the last date of watching the bridgeton show.\n",
    "Netflix_Viewing_History.loc[('Bridgerton' in title for title in Netflix_Viewing_History['Title']),:].sort_values('Date',ascending=False)['Date'].iloc[0]"
   ]
  },
  {
   "cell_type": "code",
   "execution_count": 33,
   "metadata": {},
   "outputs": [
    {
     "data": {
      "text/plain": [
       "8       Bridgerton: Season 2: The Viscount Who Loved Me\n",
       "9                         Bridgerton: Season 2: Harmony\n",
       "10                     Bridgerton: Season 2: The Choice\n",
       "11            Bridgerton: Season 2: An Unthinkable Fate\n",
       "12                        Bridgerton: Season 2: Victory\n",
       "13           Bridgerton: Season 2: A Bee in Your Bonnet\n",
       "14               Bridgerton: Season 2: Off to the Races\n",
       "15                 Bridgerton: Season 2: Capital R Rake\n",
       "409                Bridgerton: Season 1: After the Rain\n",
       "410                  Bridgerton: Season 1: Oceans Apart\n",
       "411                         Bridgerton: Season 1: Swish\n",
       "412                Bridgerton: Season 1: The Duke and I\n",
       "413            Bridgerton: Season 1: An Affair of Honor\n",
       "414              Bridgerton: Season 1: Art of the Swoon\n",
       "415             Bridgerton: Season 1: Shock and Delight\n",
       "416    Bridgerton: Season 1: Diamond of the First Water\n",
       "Name: Title, dtype: object"
      ]
     },
     "execution_count": 33,
     "metadata": {},
     "output_type": "execute_result"
    }
   ],
   "source": [
    "#What is the title of the last episode of the show Bridgerton watched according to the data?\n",
    "#Firstly, only show the title of the bridgerton show\n",
    "Netflix_Viewing_History.loc[('Bridgerton' in title for title in Netflix_Viewing_History['Title']),:].sort_values('Date',ascending=False)['Title']"
   ]
  },
  {
   "cell_type": "code",
   "execution_count": 34,
   "metadata": {},
   "outputs": [
    {
     "data": {
      "text/plain": [
       "'Bridgerton: Season 2: The Viscount Who Loved Me'"
      ]
     },
     "execution_count": 34,
     "metadata": {},
     "output_type": "execute_result"
    }
   ],
   "source": [
    "#Lastly, find the title of the last show of bridgerton watched.\n",
    "Netflix_Viewing_History.loc[('Bridgerton' in title for title in Netflix_Viewing_History['Title']),:].sort_values('Date',ascending=False)['Title'].iloc[0]"
   ]
  },
  {
   "cell_type": "code",
   "execution_count": null,
   "metadata": {},
   "outputs": [],
   "source": []
  }
 ],
 "metadata": {
  "interpreter": {
   "hash": "f53bd87bcd0ff1e31cdd7c9333f3a25496514197f4df140392661f47da463117"
  },
  "kernelspec": {
   "display_name": "Python 3.9.7 ('base')",
   "language": "python",
   "name": "python3"
  },
  "language_info": {
   "codemirror_mode": {
    "name": "ipython",
    "version": 3
   },
   "file_extension": ".py",
   "mimetype": "text/x-python",
   "name": "python",
   "nbconvert_exporter": "python",
   "pygments_lexer": "ipython3",
   "version": "3.9.7"
  },
  "orig_nbformat": 4
 },
 "nbformat": 4,
 "nbformat_minor": 2
}
